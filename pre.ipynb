{
 "cells": [
  {
   "cell_type": "code",
   "execution_count": null,
   "metadata": {},
   "outputs": [],
   "source": [
    "import numpy as np\n",
    "import h5py\n",
    "import matplotlib.pyplot as plt"
   ]
  },
  {
   "cell_type": "code",
   "execution_count": null,
   "metadata": {},
   "outputs": [],
   "source": [
    "resolution = 128\n",
    "x = np.linspace(0, 2*np.pi, resolution)\n",
    "y = x[..., np.newaxis]\n",
    "\n",
    "u =  0.2 * np.sin(x) * np.cos(y)\n",
    "v = -0.2 * np.cos(x) * np.sin(y)\n",
    "r =  np.ones_like(u)\n",
    "\n",
    "types = np.ones_like(u, dtype=int)\n",
    "\n",
    "# types[:,  0] = 1 << 2\n",
    "# types[:, -1] = 1 << 2\n",
    "\n",
    "# types[ 0, :] = 1 << 3\n",
    "# types[-1, :] = 1 << 3\n",
    "\n",
    "# types[ 0,  0] = 1 << 1\n",
    "# types[-1, -1] = 1 << 1\n",
    "# types[ 0, -1] = 1 << 1\n",
    "# types[-1,  0] = 1 << 1\n",
    "\n",
    "_, ax = plt.subplots(dpi=250)\n",
    "ax.quiver(u, v)\n",
    "ax.axis('equal')\n",
    "plt.show()\n"
   ]
  },
  {
   "cell_type": "code",
   "execution_count": null,
   "metadata": {},
   "outputs": [],
   "source": [
    "initial = {\n",
    "    'vel_x'  : u,\n",
    "    'vel_y'  : v,\n",
    "    'density': r\n",
    "}\n",
    "\n",
    "nx, ny = u.shape\n",
    "\n",
    "meta = {\n",
    "    'size_x': nx,\n",
    "    'size_y': ny\n",
    "}\n",
    "\n",
    "with h5py.File('taylor_green.h5', 'w') as file:\n",
    "    group = file.create_group('initial')\n",
    "    for name, data in initial.items():\n",
    "        dataset = group.create_dataset(name, data.shape, dtype='f')\n",
    "        dataset[...] = data\n",
    "\n",
    "    group = file.create_group('layout')\n",
    "    dataset = group.create_dataset('types', types.shape, dtype='i')\n",
    "    dataset[...] = types\n",
    "\n",
    "    for name, data in meta.items():\n",
    "        group.attrs[name] = data\n"
   ]
  }
 ],
 "metadata": {
  "interpreter": {
   "hash": "1986e61a37cc0cb64b2ff4c855170c95956944450abaec901b4acd8cb20cdc0b"
  },
  "kernelspec": {
   "display_name": "Python 3.9.7 64-bit ('lbm': conda)",
   "name": "python3"
  },
  "language_info": {
   "codemirror_mode": {
    "name": "ipython",
    "version": 3
   },
   "file_extension": ".py",
   "mimetype": "text/x-python",
   "name": "python",
   "nbconvert_exporter": "python",
   "pygments_lexer": "ipython3",
   "version": "3.9.7"
  },
  "orig_nbformat": 4
 },
 "nbformat": 4,
 "nbformat_minor": 2
}
